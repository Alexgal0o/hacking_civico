{
  "nbformat": 4,
  "nbformat_minor": 0,
  "metadata": {
    "colab": {
      "name": "01-python.ipynb",
      "provenance": [],
      "authorship_tag": "ABX9TyNAhXjqJ44+eOTe01eiBA69",
      "include_colab_link": true
    },
    "kernelspec": {
      "name": "python3",
      "display_name": "Python 3"
    }
  },
  "cells": [
    {
      "cell_type": "markdown",
      "metadata": {
        "id": "view-in-github",
        "colab_type": "text"
      },
      "source": [
        "<a href=\"https://colab.research.google.com/github/Alexgal0o/hacking_civico/blob/master/notebook/01_python.ipynb\" target=\"_parent\"><img src=\"https://colab.research.google.com/assets/colab-badge.svg\" alt=\"Open In Colab\"/></a>"
      ]
    },
    {
      "cell_type": "markdown",
      "metadata": {
        "id": "NQZ9-DsdVW4o",
        "colab_type": "text"
      },
      "source": [
        "Este es el primer archivo para mi notebook."
      ]
    },
    {
      "cell_type": "code",
      "metadata": {
        "id": "EO6vSjD5UnZC",
        "colab_type": "code",
        "colab": {
          "base_uri": "https://localhost:8080/",
          "height": 35
        },
        "outputId": "fe9c0d3d-376e-4288-9a94-bfdb56a79a5b"
      },
      "source": [
        "print(\"Hello world! This is my first script in python\")"
      ],
      "execution_count": 1,
      "outputs": [
        {
          "output_type": "stream",
          "text": [
            "Hello world! This is my first script in python\n"
          ],
          "name": "stdout"
        }
      ]
    }
  ]
}